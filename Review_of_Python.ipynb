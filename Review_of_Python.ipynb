{
  "nbformat": 4,
  "nbformat_minor": 0,
  "metadata": {
    "colab": {
      "provenance": [],
      "authorship_tag": "ABX9TyNsv3ceHLIy3YdMhuSvuCed",
      "include_colab_link": true
    },
    "kernelspec": {
      "name": "python3",
      "display_name": "Python 3"
    },
    "language_info": {
      "name": "python"
    }
  },
  "cells": [
    {
      "cell_type": "markdown",
      "metadata": {
        "id": "view-in-github",
        "colab_type": "text"
      },
      "source": [
        "<a href=\"https://colab.research.google.com/github/TuscanoFranzIvan/58013-Linear-Algebra/blob/main/Review_of_Python.ipynb\" target=\"_parent\"><img src=\"https://colab.research.google.com/assets/colab-badge.svg\" alt=\"Open In Colab\"/></a>"
      ]
    },
    {
      "cell_type": "markdown",
      "source": [
        "Python Indentation"
      ],
      "metadata": {
        "id": "_qXXCoIohurY"
      }
    },
    {
      "cell_type": "code",
      "source": [
        "if 5>2:\n",
        "  print(\"Five is greater than two!\")"
      ],
      "metadata": {
        "id": "myO25PcHhzcB",
        "outputId": "17c2a29f-0511-418f-e472-a86749c4bd06",
        "colab": {
          "base_uri": "https://localhost:8080/"
        }
      },
      "execution_count": null,
      "outputs": [
        {
          "output_type": "stream",
          "name": "stdout",
          "text": [
            "Five is greater than two!\n"
          ]
        }
      ]
    },
    {
      "cell_type": "markdown",
      "source": [
        "Python Comments"
      ],
      "metadata": {
        "id": "QG2SREotiXHP"
      }
    },
    {
      "cell_type": "code",
      "source": [
        "#This is a comment\n",
        "print(\"Hello,World\")"
      ],
      "metadata": {
        "id": "AotQ7i9ciY1X",
        "outputId": "6b3ea76f-425f-4d77-e94f-1faef6d2144b",
        "colab": {
          "base_uri": "https://localhost:8080/"
        }
      },
      "execution_count": null,
      "outputs": [
        {
          "output_type": "stream",
          "name": "stdout",
          "text": [
            "Hello,World\n"
          ]
        }
      ]
    },
    {
      "cell_type": "markdown",
      "source": [
        "Python Variable"
      ],
      "metadata": {
        "id": "MmwXLb06jHax"
      }
    },
    {
      "cell_type": "code",
      "source": [
        "x = 1\n",
        "a, b=0, -1\n",
        "a, b, c=0, -1, 2\n",
        "b = \"Sally\" #This is a type of string"
      ],
      "metadata": {
        "id": "eAIytbkRjI9C"
      },
      "execution_count": null,
      "outputs": []
    },
    {
      "cell_type": "markdown",
      "source": [
        "Casting"
      ],
      "metadata": {
        "id": "rU_REakMjnOx"
      }
    },
    {
      "cell_type": "code",
      "source": [
        "b=\"sally\" #This is a type of string\n",
        "b=int(4)\n",
        "print(b)\n",
        "\n",
        "b=float(4)\n",
        "print(b)"
      ],
      "metadata": {
        "id": "U5wUcjsgjoOx",
        "outputId": "323e88b9-d04e-410d-d813-988db4c06bbe",
        "colab": {
          "base_uri": "https://localhost:8080/"
        }
      },
      "execution_count": null,
      "outputs": [
        {
          "output_type": "stream",
          "name": "stdout",
          "text": [
            "4\n",
            "4.0\n"
          ]
        }
      ]
    },
    {
      "cell_type": "markdown",
      "source": [
        "Type() Function"
      ],
      "metadata": {
        "id": "0hbC8nUCkCkE"
      }
    },
    {
      "cell_type": "code",
      "source": [
        "x = 5\n",
        "y = \"John\"\n",
        "print(type(x))\n",
        "print(type(y))"
      ],
      "metadata": {
        "id": "kdQ98exCkIQc",
        "outputId": "b54d3978-4c63-4970-d564-e6457f8a24f0",
        "colab": {
          "base_uri": "https://localhost:8080/"
        }
      },
      "execution_count": null,
      "outputs": [
        {
          "output_type": "stream",
          "name": "stdout",
          "text": [
            "<class 'int'>\n",
            "<class 'str'>\n"
          ]
        }
      ]
    },
    {
      "cell_type": "markdown",
      "source": [
        "\"Double quotes\" or 'Single' quotes"
      ],
      "metadata": {
        "id": "g_QQwglbkzFp"
      }
    },
    {
      "cell_type": "code",
      "source": [
        "y = \"John\"\n",
        "y = 'John'"
      ],
      "metadata": {
        "id": "OC1yU2Ofk4i5"
      },
      "execution_count": null,
      "outputs": []
    },
    {
      "cell_type": "markdown",
      "source": [
        "Case sensitive"
      ],
      "metadata": {
        "id": "8IPMn7dIlRf4"
      }
    },
    {
      "cell_type": "code",
      "source": [
        "a = 4\n",
        "A = \"Sally\"\n",
        "#A will not overwrite a"
      ],
      "metadata": {
        "id": "WcwNmmwnlUQ4"
      },
      "execution_count": null,
      "outputs": []
    },
    {
      "cell_type": "markdown",
      "source": [
        "Multiple Variables"
      ],
      "metadata": {
        "id": "Ly421GoUlahY"
      }
    },
    {
      "cell_type": "code",
      "source": [
        "x, y, z, = \"one\", \"two\", \"three\"\n",
        "print(x)\n",
        "print(y)\n",
        "print(z)"
      ],
      "metadata": {
        "id": "26qOZVbMlc16",
        "outputId": "0cb4f484-c647-4b0c-a046-12e29f57d9b4",
        "colab": {
          "base_uri": "https://localhost:8080/"
        }
      },
      "execution_count": null,
      "outputs": [
        {
          "output_type": "stream",
          "name": "stdout",
          "text": [
            "one\n",
            "two\n",
            "three\n"
          ]
        }
      ]
    },
    {
      "cell_type": "markdown",
      "source": [
        "One Value to multiplpe Variables"
      ],
      "metadata": {
        "id": "3W2WCZZml4Ih"
      }
    },
    {
      "cell_type": "code",
      "source": [
        "x = y = z = \"four\"\n",
        "print(x)\n",
        "print(y)\n",
        "print(z)"
      ],
      "metadata": {
        "id": "4zBTje81l4YJ",
        "outputId": "67555f3a-42d6-431d-d3b8-d6c526d628ae",
        "colab": {
          "base_uri": "https://localhost:8080/"
        }
      },
      "execution_count": null,
      "outputs": [
        {
          "output_type": "stream",
          "name": "stdout",
          "text": [
            "four\n",
            "four\n",
            "four\n"
          ]
        }
      ]
    },
    {
      "cell_type": "markdown",
      "source": [
        "Output Variables"
      ],
      "metadata": {
        "id": "bHZyl5x5mOUR"
      }
    },
    {
      "cell_type": "code",
      "source": [
        "x = \"enjoying\"\n",
        "print(\"Python programming is \" + x)"
      ],
      "metadata": {
        "id": "ghlDIKgamQPA",
        "outputId": "9d4ca8bc-1ba5-4f13-aaa6-954c7248e704",
        "colab": {
          "base_uri": "https://localhost:8080/"
        }
      },
      "execution_count": null,
      "outputs": [
        {
          "output_type": "stream",
          "name": "stdout",
          "text": [
            "Python programming is enjoying\n"
          ]
        }
      ]
    },
    {
      "cell_type": "code",
      "source": [
        "x = \"Python is \"\n",
        "y = \"enjoying\"\n",
        "z = x + y\n",
        "print(z)"
      ],
      "metadata": {
        "id": "82mnUIyAm6Qo",
        "outputId": "9af8e6a3-1a3e-43d9-ac5e-16babc2d56e5",
        "colab": {
          "base_uri": "https://localhost:8080/"
        }
      },
      "execution_count": null,
      "outputs": [
        {
          "output_type": "stream",
          "name": "stdout",
          "text": [
            "Python is enjoying\n"
          ]
        }
      ]
    },
    {
      "cell_type": "code",
      "source": [
        "x = 5\n",
        "y = 3\n",
        "print(x+y)\n",
        "\n",
        "x=5\n",
        "y=3\n",
        "sum=x+y\n",
        "sum"
      ],
      "metadata": {
        "colab": {
          "base_uri": "https://localhost:8080/"
        },
        "id": "DErVGI33n2Q3",
        "outputId": "bedd5d4f-89fe-4313-fbfc-896c5f303e73"
      },
      "execution_count": 1,
      "outputs": [
        {
          "output_type": "stream",
          "name": "stdout",
          "text": [
            "8\n"
          ]
        },
        {
          "output_type": "execute_result",
          "data": {
            "text/plain": [
              "8"
            ]
          },
          "metadata": {},
          "execution_count": 1
        }
      ]
    },
    {
      "cell_type": "code",
      "source": [
        "a,b,c=0,-1,6\n",
        "c%=3\n",
        "c"
      ],
      "metadata": {
        "colab": {
          "base_uri": "https://localhost:8080/"
        },
        "id": "iH2uFN8DoSAw",
        "outputId": "a659a9e3-8055-494d-ae6a-3f8e7c04fc20"
      },
      "execution_count": 3,
      "outputs": [
        {
          "output_type": "execute_result",
          "data": {
            "text/plain": [
              "0"
            ]
          },
          "metadata": {},
          "execution_count": 3
        }
      ]
    },
    {
      "cell_type": "markdown",
      "source": [
        "Comparison Operators and Logical Operators\n"
      ],
      "metadata": {
        "id": "8egreyKQpCn4"
      }
    },
    {
      "cell_type": "code",
      "source": [
        "a,b,c=0,-1,6\n",
        "a>b and c>b\n",
        "True"
      ],
      "metadata": {
        "colab": {
          "base_uri": "https://localhost:8080/"
        },
        "id": "NUlv5MccpFaX",
        "outputId": "a02f581f-41a4-4311-c859-dc3272e6ff5b"
      },
      "execution_count": 4,
      "outputs": [
        {
          "output_type": "execute_result",
          "data": {
            "text/plain": [
              "True"
            ]
          },
          "metadata": {},
          "execution_count": 4
        }
      ]
    },
    {
      "cell_type": "markdown",
      "source": [
        "Identity Operators"
      ],
      "metadata": {
        "id": "N-n8Q9RyqIRI"
      }
    },
    {
      "cell_type": "code",
      "source": [
        "a,b,c=0,-1,5\n",
        "a is c\n",
        "False\n"
      ],
      "metadata": {
        "colab": {
          "base_uri": "https://localhost:8080/"
        },
        "id": "KAmgWVieqajg",
        "outputId": "7ba89d05-6e09-4174-e6b2-d7ace68fc00e"
      },
      "execution_count": 6,
      "outputs": [
        {
          "output_type": "execute_result",
          "data": {
            "text/plain": [
              "False"
            ]
          },
          "metadata": {},
          "execution_count": 6
        }
      ]
    },
    {
      "cell_type": "markdown",
      "source": [
        "Bitwise Operators"
      ],
      "metadata": {
        "id": "RsWUaNW3qtA2"
      }
    },
    {
      "cell_type": "code",
      "source": [
        "a,b,c=0,-1,5\n",
        "print(c>>1)\n",
        "print(c<<1)"
      ],
      "metadata": {
        "colab": {
          "base_uri": "https://localhost:8080/"
        },
        "id": "sWG06dBHqwzm",
        "outputId": "dfceea91-b6f2-42a7-86d3-129b73d215d6"
      },
      "execution_count": 8,
      "outputs": [
        {
          "output_type": "stream",
          "name": "stdout",
          "text": [
            "2\n",
            "10\n"
          ]
        }
      ]
    }
  ]
}