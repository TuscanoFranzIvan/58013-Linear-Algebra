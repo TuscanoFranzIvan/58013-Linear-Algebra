{
  "nbformat": 4,
  "nbformat_minor": 0,
  "metadata": {
    "colab": {
      "provenance": [],
      "authorship_tag": "ABX9TyNRg1lX0030gnHYvAyQITat",
      "include_colab_link": true
    },
    "kernelspec": {
      "name": "python3",
      "display_name": "Python 3"
    },
    "language_info": {
      "name": "python"
    }
  },
  "cells": [
    {
      "cell_type": "markdown",
      "metadata": {
        "id": "view-in-github",
        "colab_type": "text"
      },
      "source": [
        "<a href=\"https://colab.research.google.com/github/TuscanoFranzIvan/58013-Linear-Algebra/blob/main/Python_Exercise_9.ipynb\" target=\"_parent\"><img src=\"https://colab.research.google.com/assets/colab-badge.svg\" alt=\"Open In Colab\"/></a>"
      ]
    },
    {
      "cell_type": "markdown",
      "source": [
        "Coding Activity 9"
      ],
      "metadata": {
        "id": "c9k13zZutwEG"
      }
    },
    {
      "cell_type": "code",
      "source": [
        "from matplotlib import pyplot as plt\n",
        "import numpy as np\n",
        "%matplotlib inline\n",
        "\n",
        "A = np.array([\n",
        "    [1,4],\n",
        "    [0,3]\n",
        "])\n",
        "print(int(np.linalg.det(A)))\n",
        "\n",
        "B = np.array([\n",
        "    [1,3,5,6],\n",
        "    [0,3,1,3],\n",
        "    [3,1,8,2],\n",
        "    [5,2,6,8]\n",
        "])\n",
        "print(int(np.linalg.det(B)))"
      ],
      "metadata": {
        "colab": {
          "base_uri": "https://localhost:8080/"
        },
        "id": "4ra8WXCstb8W",
        "outputId": "5beeb8e7-5ef9-4dc4-d8e0-36fb34bd933f"
      },
      "execution_count": 6,
      "outputs": [
        {
          "output_type": "stream",
          "name": "stdout",
          "text": [
            "3\n",
            "-235\n"
          ]
        }
      ]
    },
    {
      "cell_type": "markdown",
      "source": [
        "Coding Activity 9"
      ],
      "metadata": {
        "id": "t8ohNupmt3K7"
      }
    },
    {
      "cell_type": "code",
      "source": [
        "import numpy as np\n",
        "x = np.array([[1,2,3],[4,5,6],[7,8,9]])\n",
        "y = np.array([[2,3,3],[4,4,7],[1,1,1]])\n",
        "z = np.array([[2,4,6],[2,5,7],[1,2,2]])\n",
        "print(x, \"\\n\")\n",
        "print(y, \"\\n\")\n",
        "print(z)"
      ],
      "metadata": {
        "colab": {
          "base_uri": "https://localhost:8080/"
        },
        "id": "uMJP9vautg-k",
        "outputId": "41261dde-fbd1-43b2-c10c-565cbe534b34"
      },
      "execution_count": 3,
      "outputs": [
        {
          "output_type": "stream",
          "name": "stdout",
          "text": [
            "[[1 2 3]\n",
            " [4 5 6]\n",
            " [7 8 9]] \n",
            "\n",
            "[[2 3 3]\n",
            " [4 4 7]\n",
            " [1 1 1]] \n",
            "\n",
            "[[2 4 6]\n",
            " [2 5 7]\n",
            " [1 2 2]]\n"
          ]
        }
      ]
    },
    {
      "cell_type": "markdown",
      "source": [
        "Distributive Property"
      ],
      "metadata": {
        "id": "HS8nRK28uFd7"
      }
    },
    {
      "cell_type": "code",
      "source": [
        "\n",
        "\n",
        "a = x.dot(y + z)\n",
        "\n",
        "b = x.dot(y) + x.dot(z)\n",
        "\n",
        "print(\"x(y + z) =\", \"\\n\",a)\n",
        "print(\"xy + xz =\", \"\\n\",b)\n",
        "print(np.array_equal(a,b))"
      ],
      "metadata": {
        "colab": {
          "base_uri": "https://localhost:8080/"
        },
        "id": "-IyHCBFktlbE",
        "outputId": "be5bb893-917f-4744-a7d8-35a30d06ef64"
      },
      "execution_count": 4,
      "outputs": [
        {
          "output_type": "stream",
          "name": "stdout",
          "text": [
            "x(y + z) = \n",
            " [[ 22  34  46]\n",
            " [ 58  91 124]\n",
            " [ 94 148 202]]\n",
            "xy + xz = \n",
            " [[ 22  34  46]\n",
            " [ 58  91 124]\n",
            " [ 94 148 202]]\n",
            "True\n"
          ]
        }
      ]
    },
    {
      "cell_type": "markdown",
      "source": [
        "Associative Property"
      ],
      "metadata": {
        "id": "9ngRPLtPt_Fa"
      }
    },
    {
      "cell_type": "code",
      "source": [
        "a = (x.dot(y)).dot(z)\n",
        "b = x.dot(y.dot(z))\n",
        "\n",
        "print(\"(xy)z =\", \"\\n\", a)\n",
        "print(\"x(yz) =\", \"\\n\",b)\n",
        "print(np.array_equal(a,b))"
      ],
      "metadata": {
        "colab": {
          "base_uri": "https://localhost:8080/"
        },
        "id": "_25eSF1ItrtL",
        "outputId": "0c3695c6-145a-47d5-d74a-8f6a38591f3b"
      },
      "execution_count": 5,
      "outputs": [
        {
          "output_type": "stream",
          "name": "stdout",
          "text": [
            "(xy)z = \n",
            " [[ 74 162 216]\n",
            " [197 432 576]\n",
            " [320 702 936]]\n",
            "x(yz) = \n",
            " [[ 74 162 216]\n",
            " [197 432 576]\n",
            " [320 702 936]]\n",
            "True\n"
          ]
        }
      ]
    },
    {
      "cell_type": "markdown",
      "source": [
        "Scalar Multiplication Distributive Property"
      ],
      "metadata": {
        "id": "fq6UZ-aMuLML"
      }
    },
    {
      "cell_type": "code",
      "source": [
        "Scale = 2\n",
        "\n",
        "a = Scale*(z.dot(y))\n",
        "b = (Scale*z).dot(y)\n",
        "\n",
        "print(\"Scale(xy) =\", \"\\n\",a)\n",
        "print(\"(Scale*x)y =\", \"\\n\",b)\n",
        "print(np.array_equal(a,b))"
      ],
      "metadata": {
        "colab": {
          "base_uri": "https://localhost:8080/"
        },
        "id": "qpo4XtY5uNhb",
        "outputId": "e59be6a4-1c6b-4b0f-d7a3-5f6fcf884433"
      },
      "execution_count": 7,
      "outputs": [
        {
          "output_type": "stream",
          "name": "stdout",
          "text": [
            "Scale(xy) = \n",
            " [[52 56 80]\n",
            " [62 66 96]\n",
            " [24 26 38]]\n",
            "(Scale*x)y = \n",
            " [[52 56 80]\n",
            " [62 66 96]\n",
            " [24 26 38]]\n",
            "True\n"
          ]
        }
      ]
    },
    {
      "cell_type": "markdown",
      "source": [
        "Identity Matrix Property"
      ],
      "metadata": {
        "id": "_DELOh5XuTUb"
      }
    },
    {
      "cell_type": "code",
      "source": [
        "Identity = np.identity(3)\n",
        "\n",
        "a = Identity.dot(x)\n",
        "b = x.dot(Identity)\n",
        "\n",
        "print(\"Identity*x =\", \"\\n\",a)\n",
        "print(\"x*Identity =\", \"\\n\",b)\n",
        "\n",
        "print(np.array_equal(b, x) and np.array_equal(b, x))"
      ],
      "metadata": {
        "colab": {
          "base_uri": "https://localhost:8080/"
        },
        "id": "XViJYoxXuVh7",
        "outputId": "5b6f7a42-5df4-4077-8540-cec43035b633"
      },
      "execution_count": 8,
      "outputs": [
        {
          "output_type": "stream",
          "name": "stdout",
          "text": [
            "Identity*x = \n",
            " [[1. 2. 3.]\n",
            " [4. 5. 6.]\n",
            " [7. 8. 9.]]\n",
            "x*Identity = \n",
            " [[1. 2. 3.]\n",
            " [4. 5. 6.]\n",
            " [7. 8. 9.]]\n",
            "True\n"
          ]
        }
      ]
    },
    {
      "cell_type": "markdown",
      "source": [
        "Multiplicative Property of Zero"
      ],
      "metadata": {
        "id": "PG_5EaRDua50"
      }
    },
    {
      "cell_type": "code",
      "source": [
        "zero = np.zeros((3, 3))\n",
        "\n",
        "a = zero.dot(x)\n",
        "b = x.dot(zero)\n",
        "\n",
        "print(\"0x =\", \"\\n\", a)\n",
        "print(\"xy =\", \"\\n\", b)\n",
        "\n",
        "print(np.array_equal(a, zero) and np.array_equal(b, zero))\n"
      ],
      "metadata": {
        "colab": {
          "base_uri": "https://localhost:8080/"
        },
        "id": "uXYZVpYnub3N",
        "outputId": "bba43405-5fbe-412a-bfac-4c132a3db925"
      },
      "execution_count": 9,
      "outputs": [
        {
          "output_type": "stream",
          "name": "stdout",
          "text": [
            "0x = \n",
            " [[0. 0. 0.]\n",
            " [0. 0. 0.]\n",
            " [0. 0. 0.]]\n",
            "xy = \n",
            " [[0. 0. 0.]\n",
            " [0. 0. 0.]\n",
            " [0. 0. 0.]]\n",
            "True\n"
          ]
        }
      ]
    },
    {
      "cell_type": "markdown",
      "source": [
        "Transpose Property"
      ],
      "metadata": {
        "id": "smFGo8vGujcN"
      }
    },
    {
      "cell_type": "code",
      "source": [
        "a = (x.dot(y)).T\n",
        "b = (y.T).dot(x.T)\n",
        "\n",
        "print(\"(xy)^T =\", \"\\n\", a)\n",
        "print(\"y^T * x^T =\", \"\\n\", b)\n",
        "\n",
        "print(np.array_equal(a, b))"
      ],
      "metadata": {
        "colab": {
          "base_uri": "https://localhost:8080/"
        },
        "id": "HzVU8xgGukts",
        "outputId": "7cfb97e1-e626-4768-e91a-bb0182d543c6"
      },
      "execution_count": 10,
      "outputs": [
        {
          "output_type": "stream",
          "name": "stdout",
          "text": [
            "(xy)^T = \n",
            " [[13 34 55]\n",
            " [14 38 62]\n",
            " [20 53 86]]\n",
            "y^T * x^T = \n",
            " [[13 34 55]\n",
            " [14 38 62]\n",
            " [20 53 86]]\n",
            "True\n"
          ]
        }
      ]
    }
  ]
}