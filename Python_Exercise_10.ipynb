{
  "nbformat": 4,
  "nbformat_minor": 0,
  "metadata": {
    "colab": {
      "provenance": [],
      "authorship_tag": "ABX9TyM2LTNhAC8mAMLpW7P7fvc5",
      "include_colab_link": true
    },
    "kernelspec": {
      "name": "python3",
      "display_name": "Python 3"
    },
    "language_info": {
      "name": "python"
    }
  },
  "cells": [
    {
      "cell_type": "markdown",
      "metadata": {
        "id": "view-in-github",
        "colab_type": "text"
      },
      "source": [
        "<a href=\"https://colab.research.google.com/github/TuscanoFranzIvan/58013-Linear-Algebra/blob/main/Python_Exercise_10.ipynb\" target=\"_parent\"><img src=\"https://colab.research.google.com/assets/colab-badge.svg\" alt=\"Open In Colab\"/></a>"
      ]
    },
    {
      "cell_type": "code",
      "execution_count": 10,
      "metadata": {
        "colab": {
          "base_uri": "https://localhost:8080/"
        },
        "id": "ElwkUByZ4uAJ",
        "outputId": "121d4b94-b1b4-42af-ebcf-6c9a226ba2e0"
      },
      "outputs": [
        {
          "output_type": "stream",
          "name": "stdout",
          "text": [
            "Price per sack of flour: 330.0 pesos\n",
            "Price per pack of yeast: 139.99999999999986 pesos\n",
            "Price per egg: 10.00000000000002 pesos\n"
          ]
        }
      ],
      "source": [
        "import numpy as np\n",
        "\n",
        "coefficients = np.array([[30, 10, 120],\n",
        "                         [40, 20, 200],\n",
        "                         [50, 40, 360]])\n",
        "\n",
        "costs = np.array([12500, 18000, 25700])\n",
        "\n",
        "result = np.linalg.solve(coefficients, costs)\n",
        "\n",
        "price_per_sack = result[0]\n",
        "price_per_yeast_pack = result[1]\n",
        "price_per_egg = result[2]\n",
        "\n",
        "print(f\"Price per sack of flour: {price_per_sack} pesos\")\n",
        "print(f\"Price per pack of yeast: {price_per_yeast_pack} pesos\")\n",
        "print(f\"Price per egg: {price_per_egg} pesos\")"
      ]
    }
  ]
}