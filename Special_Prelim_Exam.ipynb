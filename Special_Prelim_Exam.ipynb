{
  "nbformat": 4,
  "nbformat_minor": 0,
  "metadata": {
    "colab": {
      "provenance": [],
      "authorship_tag": "ABX9TyPzoPDp3ujd6Jx1sZHW+ihY",
      "include_colab_link": true
    },
    "kernelspec": {
      "name": "python3",
      "display_name": "Python 3"
    },
    "language_info": {
      "name": "python"
    }
  },
  "cells": [
    {
      "cell_type": "markdown",
      "metadata": {
        "id": "view-in-github",
        "colab_type": "text"
      },
      "source": [
        "<a href=\"https://colab.research.google.com/github/TuscanoFranzIvan/58013-Linear-Algebra/blob/main/Special_Prelim_Exam.ipynb\" target=\"_parent\"><img src=\"https://colab.research.google.com/assets/colab-badge.svg\" alt=\"Open In Colab\"/></a>"
      ]
    },
    {
      "cell_type": "markdown",
      "source": [
        "\n",
        "Question 1. (20 points) Create a Multiplication Table/Chart of 10 (10x10) using numpy/ python program."
      ],
      "metadata": {
        "id": "qt4RIMC_VlVE"
      }
    },
    {
      "cell_type": "code",
      "execution_count": 23,
      "metadata": {
        "colab": {
          "base_uri": "https://localhost:8080/"
        },
        "id": "n_OqbxMuU4Xs",
        "outputId": "c22d3ecb-e6e7-44e8-da16-5bbb8688c247"
      },
      "outputs": [
        {
          "output_type": "stream",
          "name": "stdout",
          "text": [
            " 1\t 2\t 3\t 4\t 5\t 6\t 7\t 8\t 9\t10\t\n",
            " 2\t 4\t 6\t 8\t10\t12\t14\t16\t18\t20\t\n",
            " 3\t 6\t 9\t12\t15\t18\t21\t24\t27\t30\t\n",
            " 4\t 8\t12\t16\t20\t24\t28\t32\t36\t40\t\n",
            " 5\t10\t15\t20\t25\t30\t35\t40\t45\t50\t\n",
            " 6\t12\t18\t24\t30\t36\t42\t48\t54\t60\t\n",
            " 7\t14\t21\t28\t35\t42\t49\t56\t63\t70\t\n",
            " 8\t16\t24\t32\t40\t48\t56\t64\t72\t80\t\n",
            " 9\t18\t27\t36\t45\t54\t63\t72\t81\t90\t\n",
            "10\t20\t30\t40\t50\t60\t70\t80\t90\t100\t\n"
          ]
        }
      ],
      "source": [
        "import numpy as np\n",
        "\n",
        "start = 1\n",
        "end = 10\n",
        "\n",
        "numbers = np.arange(start, end + 1)\n",
        "table = np.zeros((end, end), dtype=int)\n",
        "\n",
        "for i in range(end):\n",
        "\n",
        "  table[i, :] = numbers * (i + 1)\n",
        "\n",
        "\n",
        "for i in range(end):\n",
        "\n",
        "  for j in range(end):\n",
        "\n",
        "    print(f\"{table[i, j]:2d}\", end=\"\\t\")\n",
        "\n",
        "  print()"
      ]
    },
    {
      "cell_type": "markdown",
      "source": [
        "Question 2. (10 points) In relation to Question 1, show a solution that triples all the values of each element"
      ],
      "metadata": {
        "id": "zkuN3PkIVpxu"
      }
    },
    {
      "cell_type": "code",
      "source": [
        "import numpy as np\n",
        "\n",
        "start = 1\n",
        "end = 10\n",
        "\n",
        "numbers = np.arange(start, end + 1)\n",
        "\n",
        "table = numbers[:, np.newaxis] * np.arange(1, end + 1)\n",
        "table = table * 3\n",
        "\n",
        "for row in table:\n",
        "    for value in row:\n",
        "        print(f\"{value:2d}\", end=\"\\t\")\n",
        "    print()"
      ],
      "metadata": {
        "colab": {
          "base_uri": "https://localhost:8080/"
        },
        "id": "kLmLER3gVsGd",
        "outputId": "4c5c0b81-f597-4b36-ca2e-dc259bd69838"
      },
      "execution_count": 24,
      "outputs": [
        {
          "output_type": "stream",
          "name": "stdout",
          "text": [
            " 3\t 6\t 9\t12\t15\t18\t21\t24\t27\t30\t\n",
            " 6\t12\t18\t24\t30\t36\t42\t48\t54\t60\t\n",
            " 9\t18\t27\t36\t45\t54\t63\t72\t81\t90\t\n",
            "12\t24\t36\t48\t60\t72\t84\t96\t108\t120\t\n",
            "15\t30\t45\t60\t75\t90\t105\t120\t135\t150\t\n",
            "18\t36\t54\t72\t90\t108\t126\t144\t162\t180\t\n",
            "21\t42\t63\t84\t105\t126\t147\t168\t189\t210\t\n",
            "24\t48\t72\t96\t120\t144\t168\t192\t216\t240\t\n",
            "27\t54\t81\t108\t135\t162\t189\t216\t243\t270\t\n",
            "30\t60\t90\t120\t150\t180\t210\t240\t270\t300\t\n"
          ]
        }
      ]
    },
    {
      "cell_type": "markdown",
      "source": [
        "Question 3. (10 points) Create a square matrix that has a diagonal of 5's.\n",
        "\n"
      ],
      "metadata": {
        "id": "SRIkNmgEWTkL"
      }
    },
    {
      "cell_type": "code",
      "source": [
        "import numpy as np\n",
        "\n",
        "matrix_size = 4\n",
        "matrix = np.eye(matrix_size) * 5\n",
        "\n",
        "print(matrix)"
      ],
      "metadata": {
        "colab": {
          "base_uri": "https://localhost:8080/"
        },
        "id": "xL41-YYtWV9L",
        "outputId": "39a68993-7acf-4b80-94ae-5111deeebe89"
      },
      "execution_count": 25,
      "outputs": [
        {
          "output_type": "stream",
          "name": "stdout",
          "text": [
            "[[5. 0. 0. 0.]\n",
            " [0. 5. 0. 0.]\n",
            " [0. 0. 5. 0.]\n",
            " [0. 0. 0. 5.]]\n"
          ]
        }
      ]
    },
    {
      "cell_type": "markdown",
      "source": [
        "Question 4. (30 points) Create a matrix whose elements are:\n",
        "matrix = np.array([[1, 2, 3, 4],\n",
        "                   [5, 6, 7, 8],\n",
        "                   [9, 10, 11, 12]])"
      ],
      "metadata": {
        "id": "uspAJRVgWk9C"
      }
    },
    {
      "cell_type": "code",
      "source": [
        "import numpy as np\n",
        "\n",
        "matrix = np.array([[1, 2, 3, 4], [5, 6, 7, 8], [9, 10, 11, 12]])\n",
        "print(matrix)"
      ],
      "metadata": {
        "colab": {
          "base_uri": "https://localhost:8080/"
        },
        "id": "miwPl6gvWxPK",
        "outputId": "6586b87d-ec52-4e08-ba73-68e429fd644c"
      },
      "execution_count": 26,
      "outputs": [
        {
          "output_type": "stream",
          "name": "stdout",
          "text": [
            "[[ 1  2  3  4]\n",
            " [ 5  6  7  8]\n",
            " [ 9 10 11 12]]\n"
          ]
        }
      ]
    },
    {
      "cell_type": "markdown",
      "source": [
        "Question 5. (30 points) Create a result array by subtracting the following two NumPy arrays. Next, modify the result array by calculating the square of each element."
      ],
      "metadata": {
        "id": "f-tqgVb6W-76"
      }
    },
    {
      "cell_type": "code",
      "source": [
        "import numpy as np\n",
        "\n",
        "array1 = np.array([[5, 6, 9], [21, 18, 27]])\n",
        "array2 = np.array([[15, 33, 24], [4, 7, 1]])\n",
        "\n",
        "result_array = array1 + array2\n",
        "result_array_squared = np.square(result_array)\n",
        "\n",
        "print(result_array_squared)"
      ],
      "metadata": {
        "colab": {
          "base_uri": "https://localhost:8080/"
        },
        "id": "Zx4pvY5XXnLz",
        "outputId": "13c7611f-b244-4aee-8a0f-736700cd2ef6"
      },
      "execution_count": 27,
      "outputs": [
        {
          "output_type": "stream",
          "name": "stdout",
          "text": [
            "[[ 400 1521 1089]\n",
            " [ 625  625  784]]\n"
          ]
        }
      ]
    }
  ]
}