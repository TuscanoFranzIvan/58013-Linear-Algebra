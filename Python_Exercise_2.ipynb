{
  "nbformat": 4,
  "nbformat_minor": 0,
  "metadata": {
    "colab": {
      "provenance": [],
      "authorship_tag": "ABX9TyMf+lY/Vp1Dz+kjwUZbUoDL",
      "include_colab_link": true
    },
    "kernelspec": {
      "name": "python3",
      "display_name": "Python 3"
    },
    "language_info": {
      "name": "python"
    }
  },
  "cells": [
    {
      "cell_type": "markdown",
      "metadata": {
        "id": "view-in-github",
        "colab_type": "text"
      },
      "source": [
        "<a href=\"https://colab.research.google.com/github/TuscanoFranzIvan/58013-Linear-Algebra/blob/main/Python_Exercise_2.ipynb\" target=\"_parent\"><img src=\"https://colab.research.google.com/assets/colab-badge.svg\" alt=\"Open In Colab\"/></a>"
      ]
    },
    {
      "cell_type": "markdown",
      "source": [
        "Scalars"
      ],
      "metadata": {
        "id": "Nweegh2QDOoX"
      }
    },
    {
      "cell_type": "code",
      "execution_count": 1,
      "metadata": {
        "colab": {
          "base_uri": "https://localhost:8080/"
        },
        "id": "XJZzlyovCgOQ",
        "outputId": "77fe0383-1668-4729-8455-0d23e88a3810"
      },
      "outputs": [
        {
          "output_type": "execute_result",
          "data": {
            "text/plain": [
              "array(-0.5)"
            ]
          },
          "metadata": {},
          "execution_count": 1
        }
      ],
      "source": [
        "import numpy as np\n",
        "\n",
        "x = np.array(-0.5)\n",
        "x"
      ]
    },
    {
      "cell_type": "markdown",
      "source": [
        "Vectors"
      ],
      "metadata": {
        "id": "8-w_THOoEFrC"
      }
    },
    {
      "cell_type": "code",
      "source": [
        "A = np.array([4,3])\n",
        "B = np.array([2, -5])\n",
        "\n",
        "print('Vector A is ', A)\n",
        "print('Vector B is ', B)\n",
        "\n"
      ],
      "metadata": {
        "colab": {
          "base_uri": "https://localhost:8080/"
        },
        "id": "XWmehyGyEIJg",
        "outputId": "381d6d3d-2ca2-4541-f1c1-443f34758341"
      },
      "execution_count": 9,
      "outputs": [
        {
          "output_type": "stream",
          "name": "stdout",
          "text": [
            "Vector A is  [4 3]\n",
            "Vector B is  [ 2 -5]\n"
          ]
        }
      ]
    },
    {
      "cell_type": "code",
      "source": [
        "import numpy as np\n",
        "\n",
        "# Define the arrays and variables\n",
        "ball1 = np.array([1, 2, 3])\n",
        "ball2 = np.array([0, 1, -1])\n",
        "J = np.array([4, 5, 6])  # Example values for J (replace with actual values)\n",
        "K = np.array([7, 8, 9])  # Example values for K (replace with actual values)\n",
        "\n",
        "# Create the matrix \"pool\" using J and K\n",
        "pool = np.array([J, K])\n",
        "\n",
        "# Checking shapes\n",
        "# Shapes tell us how many rows and columns are there\n",
        "pool_shape = pool.shape\n",
        "print(\"Shape of 'pool':\", pool_shape)\n",
        "\n",
        "U = np.array([\n",
        "    [1, 2],\n",
        "    [2, 3]\n",
        "])\n",
        "\n",
        "# Checking shape of 'U'\n",
        "U_shape = U.shape\n",
        "print(\"Shape of 'U':\", U_shape)\n",
        "\n",
        "# Checking size\n",
        "# Array/Vector sizes tell us how many total number of elements are there in the vector\n",
        "U_size = U.size\n",
        "print(\"Size of 'U':\", U_size)\n",
        "\n",
        "# Checking dimensions\n",
        "# The dimensions or rank of a vector tells us how many dimensions are there for the vector.\n",
        "A = np.array([1, 2, 3])  # Define array 'A' for dimension check\n",
        "A_dimensions = A.ndim\n",
        "print(\"Dimensions of 'A':\", A_dimensions)\n",
        "\n",
        "pool_dimensions = pool.ndim\n",
        "print(\"Dimensions of 'pool':\", pool_dimensions)"
      ],
      "metadata": {
        "colab": {
          "base_uri": "https://localhost:8080/"
        },
        "id": "8dKGiCqvE2H6",
        "outputId": "9d9c740a-047c-4916-d8f7-f6d76b008c27"
      },
      "execution_count": 8,
      "outputs": [
        {
          "output_type": "stream",
          "name": "stdout",
          "text": [
            "Shape of 'pool': (2, 3)\n",
            "Shape of 'U': (2, 2)\n",
            "Size of 'U': 4\n",
            "Dimensions of 'A': 1\n",
            "Dimensions of 'pool': 2\n"
          ]
        }
      ]
    }
  ]
}