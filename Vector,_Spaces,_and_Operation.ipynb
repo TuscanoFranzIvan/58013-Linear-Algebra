{
  "nbformat": 4,
  "nbformat_minor": 0,
  "metadata": {
    "colab": {
      "provenance": [],
      "authorship_tag": "ABX9TyMOkUffI82c+AJW5ZPGOtIH",
      "include_colab_link": true
    },
    "kernelspec": {
      "name": "python3",
      "display_name": "Python 3"
    },
    "language_info": {
      "name": "python"
    }
  },
  "cells": [
    {
      "cell_type": "markdown",
      "metadata": {
        "id": "view-in-github",
        "colab_type": "text"
      },
      "source": [
        "<a href=\"https://colab.research.google.com/github/TuscanoFranzIvan/58013-Linear-Algebra/blob/main/Vector%2C_Spaces%2C_and_Operation.ipynb\" target=\"_parent\"><img src=\"https://colab.research.google.com/assets/colab-badge.svg\" alt=\"Open In Colab\"/></a>"
      ]
    },
    {
      "cell_type": "code",
      "execution_count": 2,
      "metadata": {
        "colab": {
          "base_uri": "https://localhost:8080/"
        },
        "id": "ezdgKoUed-h8",
        "outputId": "a90fbfd9-d0de-4932-8271-dc112ab9a13d"
      },
      "outputs": [
        {
          "output_type": "stream",
          "name": "stdout",
          "text": [
            "Vector A is [4 3]\n",
            "Vecotr B is [ 2 -5]\n"
          ]
        }
      ],
      "source": [
        "import numpy as np\n",
        "\n",
        "A = np.array([4,3])\n",
        "B = np.array([2,-5])\n",
        "\n",
        "print('Vector A is', A)\n",
        "print('Vecotr B is', B)"
      ]
    },
    {
      "cell_type": "markdown",
      "source": [
        "Shape of the Matrix"
      ],
      "metadata": {
        "id": "bEE1DOIBjD7h"
      }
    },
    {
      "cell_type": "code",
      "source": [
        "import numpy as np\n",
        "\n",
        "### Checking shapes\n",
        "### Shapes tells us how many rows and columns are there\n",
        "ball1 = np.array([1,2,3])\n",
        "ball2 = np.array([0,1,-1])\n",
        "print(ball1)\n",
        "print(ball2)\n",
        "#ball = np.shape([[ball1],[ball2]])\n",
        "ball = np.shape(ball1)\n",
        "balls = np.shape(ball2)\n",
        "z = ball+balls\n",
        "print(z)"
      ],
      "metadata": {
        "colab": {
          "base_uri": "https://localhost:8080/"
        },
        "id": "xKv0GYq-ilSq",
        "outputId": "cc412d9a-ac13-4730-cc4d-e48d60d667d2"
      },
      "execution_count": 28,
      "outputs": [
        {
          "output_type": "stream",
          "name": "stdout",
          "text": [
            "[1 2 3]\n",
            "[ 0  1 -1]\n",
            "(3, 3)\n"
          ]
        }
      ]
    },
    {
      "cell_type": "markdown",
      "source": [
        "Addition"
      ],
      "metadata": {
        "id": "SzI2qlmQsHkr"
      }
    },
    {
      "cell_type": "code",
      "source": [
        "import numpy as np\n",
        "A = np.array([4,3])\n",
        "B = np.array([2,-5])\n",
        "R = np.add(A,B)\n",
        "print(R)"
      ],
      "metadata": {
        "colab": {
          "base_uri": "https://localhost:8080/"
        },
        "id": "9-89mqY6sJAi",
        "outputId": "9ae2ba6f-6fef-4e78-f4ad-597e37f02bc7"
      },
      "execution_count": 39,
      "outputs": [
        {
          "output_type": "stream",
          "name": "stdout",
          "text": [
            "[ 6 -2]\n"
          ]
        }
      ]
    },
    {
      "cell_type": "code",
      "source": [
        "#Subtraction\n",
        "\n",
        "R = np.subtract(A,B)\n",
        "print(R)\n",
        "R = np.subtract(B,A)\n",
        "print(R)"
      ],
      "metadata": {
        "colab": {
          "base_uri": "https://localhost:8080/"
        },
        "id": "xsU3YBsQtyPx",
        "outputId": "cbbb0eb5-c3a2-4624-95ea-b822a33d4414"
      },
      "execution_count": 43,
      "outputs": [
        {
          "output_type": "stream",
          "name": "stdout",
          "text": [
            "[2 8]\n",
            "[-2 -8]\n"
          ]
        }
      ]
    },
    {
      "cell_type": "code",
      "source": [
        "#Multiplication\n",
        "\n",
        "R = np.multiply(A,B)\n",
        "print(R)\n",
        "\n",
        "#Scalar Product\n",
        "S = np.array([2])\n",
        "V = S*A\n",
        "print(V)"
      ],
      "metadata": {
        "colab": {
          "base_uri": "https://localhost:8080/"
        },
        "id": "TBwzxxvzuO__",
        "outputId": "545c8d4b-9e2b-4564-bcbd-3eb94cb69d13"
      },
      "execution_count": 46,
      "outputs": [
        {
          "output_type": "stream",
          "name": "stdout",
          "text": [
            "[  8 -15]\n",
            "[8 6]\n"
          ]
        }
      ]
    },
    {
      "cell_type": "code",
      "source": [
        "#Dot Product\n",
        "A = np.array([4,3])\n",
        "B = np.array([[2],[-5]])\n",
        "\n",
        "X = A*B\n",
        "\n",
        "print(X)\n"
      ],
      "metadata": {
        "colab": {
          "base_uri": "https://localhost:8080/"
        },
        "id": "4QkxO_yQvHku",
        "outputId": "0830e8d6-665a-4410-a188-f5922a4ad664"
      },
      "execution_count": 57,
      "outputs": [
        {
          "output_type": "stream",
          "name": "stdout",
          "text": [
            "[[  8   6]\n",
            " [-20 -15]]\n"
          ]
        }
      ]
    },
    {
      "cell_type": "code",
      "source": [
        "#Property of Matrix\n",
        "#Identity Matrix\n",
        "c = np.eye(3,3)\n",
        "print(c)\n",
        "d = np.eye(4,4)\n",
        "print(d)\n",
        "e = np.eye(5,5)\n",
        "print(e)\n",
        "\n",
        "#Zero Matrix\n",
        "f = np.zeros([5])\n",
        "print(f)\n",
        "\n",
        "#Full Matrix\n",
        "g = np.full((3,3),7)\n",
        "print(g)\n",
        "\n",
        "#Transpose Matrix\n",
        "f  = np.transpose(X)\n",
        "print(f)"
      ],
      "metadata": {
        "colab": {
          "base_uri": "https://localhost:8080/"
        },
        "id": "UkHaaIlHy0Yi",
        "outputId": "5ce189a0-4a54-439d-aefa-294995f31405"
      },
      "execution_count": 73,
      "outputs": [
        {
          "output_type": "stream",
          "name": "stdout",
          "text": [
            "[[1. 0. 0.]\n",
            " [0. 1. 0.]\n",
            " [0. 0. 1.]]\n",
            "[[1. 0. 0. 0.]\n",
            " [0. 1. 0. 0.]\n",
            " [0. 0. 1. 0.]\n",
            " [0. 0. 0. 1.]]\n",
            "[[1. 0. 0. 0. 0.]\n",
            " [0. 1. 0. 0. 0.]\n",
            " [0. 0. 1. 0. 0.]\n",
            " [0. 0. 0. 1. 0.]\n",
            " [0. 0. 0. 0. 1.]]\n",
            "[0. 0. 0. 0. 0.]\n",
            "[[7 7 7]\n",
            " [7 7 7]\n",
            " [7 7 7]]\n",
            "[[  8 -20]\n",
            " [  6 -15]]\n"
          ]
        }
      ]
    }
  ]
}