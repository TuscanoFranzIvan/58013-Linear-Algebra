{
  "nbformat": 4,
  "nbformat_minor": 0,
  "metadata": {
    "colab": {
      "provenance": [],
      "authorship_tag": "ABX9TyNH+sACfG0sW49oeuDuEHDP",
      "include_colab_link": true
    },
    "kernelspec": {
      "name": "python3",
      "display_name": "Python 3"
    },
    "language_info": {
      "name": "python"
    }
  },
  "cells": [
    {
      "cell_type": "markdown",
      "metadata": {
        "id": "view-in-github",
        "colab_type": "text"
      },
      "source": [
        "<a href=\"https://colab.research.google.com/github/TuscanoFranzIvan/58013-Linear-Algebra/blob/main/Python_Exercise_3.ipynb\" target=\"_parent\"><img src=\"https://colab.research.google.com/assets/colab-badge.svg\" alt=\"Open In Colab\"/></a>"
      ]
    },
    {
      "cell_type": "code",
      "source": [
        "import numpy as np\n",
        "\n",
        "A = np.array([1, 2, 0])\n",
        "B = np.array([3, 1, -2])\n",
        "C = np.array([0, 0, 1])\n",
        "\n",
        "result1 = A + B + C\n",
        "print(result1)\n",
        "\n",
        "result2 = np.add(A, np.add(B, C))\n",
        "print(result2)\n",
        "\n",
        "result3 = np.sum(B)\n",
        "print(result3)\n",
        "\n",
        "result4 = A - B\n",
        "print(result4)\n",
        "\n",
        "result5 = A * B\n",
        "print(result5)\n",
        "\n",
        "result6 = np.divide(A, B)\n",
        "print(result6)\n",
        "\n",
        "\n",
        "result7 = A / B\n",
        "print(result7)\n",
        "\n",
        "C = np.array([3.9, 1.8, 7.7])\n",
        "D = np.array([1, 1, 1])\n",
        "\n",
        "result8 = C // D\n",
        "print(result8)\n",
        "\n",
        "result9 = np.array(A / B, dtype=int)\n",
        "print(result9)"
      ],
      "metadata": {
        "colab": {
          "base_uri": "https://localhost:8080/"
        },
        "id": "5vU_7WJ2G-VK",
        "outputId": "828ea066-fc80-4d4c-daa5-d529252d6784"
      },
      "execution_count": 8,
      "outputs": [
        {
          "output_type": "stream",
          "name": "stdout",
          "text": [
            "[ 4  3 -1]\n",
            "[ 4  3 -1]\n",
            "2\n",
            "[-2  1  2]\n",
            "[3 2 0]\n",
            "[ 0.33333333  2.         -0.        ]\n",
            "[ 0.33333333  2.         -0.        ]\n",
            "[3. 1. 7.]\n",
            "[0 2 0]\n"
          ]
        }
      ]
    }
  ]
}