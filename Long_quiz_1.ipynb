{
  "nbformat": 4,
  "nbformat_minor": 0,
  "metadata": {
    "colab": {
      "provenance": [],
      "authorship_tag": "ABX9TyMNs3rsaEWFhs7ZUCZRcmIu",
      "include_colab_link": true
    },
    "kernelspec": {
      "name": "python3",
      "display_name": "Python 3"
    },
    "language_info": {
      "name": "python"
    }
  },
  "cells": [
    {
      "cell_type": "markdown",
      "metadata": {
        "id": "view-in-github",
        "colab_type": "text"
      },
      "source": [
        "<a href=\"https://colab.research.google.com/github/TuscanoFranzIvan/58013-Linear-Algebra/blob/main/Long_quiz_1.ipynb\" target=\"_parent\"><img src=\"https://colab.research.google.com/assets/colab-badge.svg\" alt=\"Open In Colab\"/></a>"
      ]
    },
    {
      "cell_type": "code",
      "source": [
        "import numpy as np\n",
        "\n",
        "A = np.array([1, 2, 3, 4, 5, 6])\n",
        "B = np.array([1, 2, 3, 4, 5, 6])\n",
        "C = np.array([1, 2, 3, 4, 5, 6, 7, 8, 9])\n",
        "D = np.array([1, 2, 3, 4])\n",
        "result_ab = np.dot(A, B)\n",
        "\n",
        "print(\"Result of AB:\")\n",
        "print(result_ab)\n",
        "\n",
        "result_2c = 2 * C\n",
        "\n",
        "print(\"Result of 2C:\")\n",
        "print(result_2c)\n",
        "\n",
        "result_dd = D + D\n",
        "\n",
        "print(\"Result of D + D:\")\n",
        "print(result_dd)"
      ],
      "metadata": {
        "colab": {
          "base_uri": "https://localhost:8080/"
        },
        "id": "az0wAJaL4cJt",
        "outputId": "4c522978-9357-4d0b-cbad-cf7a102700f3"
      },
      "execution_count": 5,
      "outputs": [
        {
          "output_type": "stream",
          "name": "stdout",
          "text": [
            "Result of AB:\n",
            "91\n",
            "Result of 2C:\n",
            "[ 2  4  6  8 10 12 14 16 18]\n",
            "Result of D + D:\n",
            "[2 4 6 8]\n"
          ]
        }
      ]
    },
    {
      "cell_type": "code",
      "execution_count": 1,
      "metadata": {
        "colab": {
          "base_uri": "https://localhost:8080/"
        },
        "id": "bhyhVDMl3ROu",
        "outputId": "29378717-2473-4840-f190-2140bfecf5dd"
      },
      "outputs": [
        {
          "output_type": "stream",
          "name": "stdout",
          "text": [
            "Cross-Product of A and B: [20 -4 -3]\n"
          ]
        }
      ],
      "source": [
        "import numpy as np\n",
        "\n",
        "A=([2,7,4])\n",
        "B=([3,9,8])\n",
        "cross_product=np.cross(A,B)\n",
        "print(\"Cross-Product of A and B:\", cross_product)\n"
      ]
    }
  ]
}